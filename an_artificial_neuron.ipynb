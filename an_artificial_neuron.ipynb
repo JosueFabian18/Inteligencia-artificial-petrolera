{
  "nbformat": 4,
  "nbformat_minor": 0,
  "metadata": {
    "colab": {
      "provenance": [],
      "authorship_tag": "ABX9TyPQo4q9KQ65yczLY9iXI7Qp",
      "include_colab_link": true
    },
    "kernelspec": {
      "name": "python3",
      "display_name": "Python 3"
    },
    "language_info": {
      "name": "python"
    }
  },
  "cells": [
    {
      "cell_type": "markdown",
      "metadata": {
        "id": "view-in-github",
        "colab_type": "text"
      },
      "source": [
        "<a href=\"https://colab.research.google.com/github/JosueFabian18/Inteligencia-artificial-petrolera/blob/main/an_artificial_neuron.ipynb\" target=\"_parent\"><img src=\"https://colab.research.google.com/assets/colab-badge.svg\" alt=\"Open In Colab\"/></a>"
      ]
    },
    {
      "cell_type": "markdown",
      "source": [
        "# an artificial neuron\n",
        "---"
      ],
      "metadata": {
        "id": "fg4OiXOuzs5G"
      }
    },
    {
      "cell_type": "code",
      "source": [
        "#import requiered module\n",
        "import numpy as np\n",
        "#Define the neuron\n",
        "class ArtificialNeuron:\n",
        "    def __init__(self, n_inputs, activation= 'logistic'):\n",
        "          self.weights = np.random.randn(n_inputs)\n",
        "          self.bias = np.random.randn()\n",
        "          self.activation = activation\n",
        "    def __call__(self, x):\n",
        "        z = np.dot(x, self.weights) + self.bias\n",
        "        if self.activation == 'logistic':\n",
        "            return 1 / (1 + np.exp(-z))\n",
        "        elif self.activation == 'relu':\n",
        "            return np.maximum(0, z)\n",
        "        else: #Linear\n",
        "            return z\n",
        "#Example\n",
        "neuron = ArtificialNeuron(n_inputs=3)\n",
        "x = np.array([0.3,-1.2,0.7])\n",
        "y = neuron(x)\n",
        "print(f'Input: {x}')\n",
        "print(f'Output: {y}')\n",
        "print(f'Weights: {neuron.weights}')\n",
        "print(f'Bias: {neuron.bias}')"
      ],
      "metadata": {
        "colab": {
          "base_uri": "https://localhost:8080/"
        },
        "id": "tuTmj_6J1L21",
        "outputId": "ec2fdd70-5684-4ac9-bc47-1d1775aab79c"
      },
      "execution_count": null,
      "outputs": [
        {
          "output_type": "stream",
          "name": "stdout",
          "text": [
            "Input: [ 0.3 -1.2  0.7]\n",
            "Output: 0.8930168657254878\n",
            "Weights: [ 0.36480814 -1.50352708  0.63824869]\n",
            "Bias: -0.238514746557562\n"
          ]
        }
      ]
    }
  ]
}